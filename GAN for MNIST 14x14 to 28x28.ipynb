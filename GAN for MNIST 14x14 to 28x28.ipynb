{
 "cells": [
  {
   "cell_type": "code",
   "execution_count": 1,
   "metadata": {
    "scrolled": true
   },
   "outputs": [
    {
     "name": "stderr",
     "output_type": "stream",
     "text": [
      "Using TensorFlow backend.\n"
     ]
    }
   ],
   "source": [
    "from keras.models import Model\n",
    "from keras.layers import Input, Conv2D, UpSampling2D, Conv2DTranspose, GlobalAveragePooling2D, MaxPooling2D\n",
    "from keras.layers import concatenate, LeakyReLU, BatchNormalization, Dense, Activation, Reshape\n",
    "from keras.optimizers import *\n",
    "from keras.datasets import mnist\n",
    "\n",
    "import matplotlib.pyplot as plt\n",
    "%matplotlib inline\n",
    "\n",
    "import numpy as np\n",
    "from typing import List # Type hints requires Python >= 3.5\n",
    "\n",
    "# Local imports\n",
    "from unet import unet_cell, LEAKY_RELU_ALPHA, BATCH_NORM_MOMENTUM"
   ]
  },
  {
   "cell_type": "code",
   "execution_count": 2,
   "metadata": {},
   "outputs": [],
   "source": [
    "# Load MNIST training data\n",
    "(X_train, _), (_, _) = mnist.load_data() # No need for labels or test set\n",
    "X_train = X_train.reshape(-1, 28, 28, 1)\n",
    "X_train = X_train / 255.0 # Normalize"
   ]
  },
  {
   "cell_type": "code",
   "execution_count": 3,
   "metadata": {},
   "outputs": [],
   "source": [
    "# Create a function for constructing the upscaler (aka generator)\n",
    "def build_upscaler(inputs, # TODO: What type is this?\n",
    "                   num_filters_in_layer: List[int]=[16, 32, 64],\n",
    "                   num_cells_in_layer: List[int]=[3, 3, 3],\n",
    "                   bottleneck_before_concat: bool=False) -> Model:\n",
    "    \"\"\"Build a model which upscales inputs by factor of 4 (i.e., \n",
    "       doubles the height and width of inputs)\n",
    "    \n",
    "    # Arguments\n",
    "        inputs (Tensor): images to be upscaled; must have \n",
    "            data_format == 'channels_last' # TODO: Enable both formats\n",
    "            \n",
    "        num_filters_in_layer (list of ints): how many filters are \n",
    "            used in each layer. (Note: a \"layer\" consists of\n",
    "            successive applications of stride=1 convolution; two \n",
    "            layers are separated by a pooling or upsampling operation. \n",
    "            The length of this list tells us how many layers we have.)\n",
    "            \n",
    "        num_cells_in_layer (list of ints): how many successive \n",
    "            applications of convolution + BN + activation are applied \n",
    "            before starting a new layer.\n",
    "            \n",
    "        bottleneck_before_concat (bool): whether or not to apply a \n",
    "            convolution with 1x1 kernels prior to concatenating \n",
    "            (doing so will reduce the total number of parameters \n",
    "            required by the upscaler)\n",
    "    \n",
    "    # Returns\n",
    "        Keras Model which takes in an image tensor and returns \n",
    "        a tensor of upscaled images.\n",
    "    \"\"\"\n",
    "    \n",
    "    # Validate inputs\n",
    "    if len(num_filters_in_layer) != len(num_cells_in_layer):\n",
    "        raise ValueError(\"len(num_filters_in_layer) should equal \"\n",
    "            \"len(num_cells_in_layer). Received lengths: \"\n",
    "            \"({}, {})\".format(len(num_filters_in_layer), len(num_cells_in_layer)))\n",
    "    \n",
    "    x = inputs\n",
    "    x = UpSampling2D()(x)\n",
    "    carry_forward_tensors = []\n",
    "\n",
    "    # Zip the parameters that apply to the encoder (exclude last \n",
    "    # parameters for bottom layer)\n",
    "    contraction_filters_and_cells = zip(num_filters_in_layer[:-1],\n",
    "                                        num_cells_in_layer[:-1])\n",
    "\n",
    "    # Encoder\n",
    "    for i, (num_filters, num_cells) in enumerate(contraction_filters_and_cells):\n",
    "        if i == 0:\n",
    "            # First layer does not downsample\n",
    "            for j in range(num_cells):\n",
    "                x = unet_cell(x, num_filters=num_filters) \n",
    "                # Note: We make extensive use of default values.\n",
    "        else:\n",
    "            # Downsample first\n",
    "            x = unet_cell(x, num_filters=num_filters, strides=2)\n",
    "            for j in range(num_cells - 1):\n",
    "                x = unet_cell(x, num_filters=num_filters)\n",
    "        carry_forward_tensors.append(x)\n",
    "\n",
    "    # Bottom layer\n",
    "    num_filters_at_bottom = num_filters_in_layer[-1]\n",
    "    num_cells_at_bottom = num_cells_in_layer[-1]\n",
    "\n",
    "    x = unet_cell(x, num_filters=num_filters_at_bottom, strides=2)\n",
    "    for i in range(num_cells_at_bottom - 1):\n",
    "        x = unet_cell(x, num_filters=num_filters_at_bottom)\n",
    "\n",
    "    # Decoder\n",
    "    filters_cells_and_carrys = reversed(\n",
    "        list(zip(num_filters_in_layer[:-1],\n",
    "                 num_cells_in_layer[:-1],\n",
    "                 carry_forward_tensors)))\n",
    "    \n",
    "    for num_filters, num_cells, carry in filters_cells_and_carrys:\n",
    "        # First, we upsample the output of the previous layer\n",
    "        # TODO: parametrize upsampling method (Conv2DTrans vs UpSample2D)\n",
    "        x = unet_cell(x, transpose_conv=True, num_filters=num_filters, strides=2)\n",
    "        if bottleneck_before_concat:\n",
    "            x = unet_cell(x, num_filters=num_filters//2, kernel_size=1)\n",
    "            carry = unet_cell(carry, num_filters=num_filters//2, kernel_size=1)\n",
    "        x = concatenate([x, carry])\n",
    "        # Then, we apply successive convolution\n",
    "        for _ in range(num_cells - 1):\n",
    "            x = unet_cell(x, num_filters=num_filters)\n",
    "\n",
    "    # Output\n",
    "    x = unet_cell(x, num_filters=1, kernel_size=1, activation='sigmoid',\n",
    "                  batch_normalization=False)\n",
    "\n",
    "    model = Model(inputs=inputs, outputs=x)\n",
    "    return model"
   ]
  },
  {
   "cell_type": "code",
   "execution_count": 4,
   "metadata": {},
   "outputs": [],
   "source": [
    "# TODO: Test keras.applications (ResNet, Xception, etc.) as discriminators\n",
    "# Note: ResNet, Xception have *required* input dimensions larger than \n",
    "# something on the order of 100x100...\n",
    "# Instead, consider implementing and using ResNet / Xception cells\n",
    "def build_discriminator(low_res_input, high_res_input, # TODO: What type are these?\n",
    "                        num_filters_in_layer: List[int]=[16, 32, 64],\n",
    "                        num_cells_in_layer: List[int]=[3, 3, 3],\n",
    "                        num_units_in_dense_layer: List[int]=[]):\n",
    "    \"\"\"Builds a model which classifies high_res_input as real\n",
    "       or generated (where \"real\" -> 1, \"generated\" -> 0).\n",
    "    \n",
    "    # Arguments\n",
    "        low_res_input (Tensor): low resolution images\n",
    "        \n",
    "        high_res_input (Tensor): upsampled versions of low_res_input\n",
    "        \n",
    "        # Note: both input tensors should have data_format == 'channels_last'\n",
    "        # TODO: Enable both formats\n",
    "        \n",
    "        num_filters_in_layer (list of ints): how many filters are \n",
    "            used in each layer. (Note: a \"layer\" consists of\n",
    "            successive applications of stride=1 convolution; two \n",
    "            layers are separated by a pooling operation. The length \n",
    "            of this list tells us how many layers we have.)\n",
    "            \n",
    "        num_cells_in_layer (list of ints): how many successive \n",
    "            applications of convolution + BN + activation are applied \n",
    "            before starting a new layer.\n",
    "            \n",
    "        num_units_in_dense_layer (list of ints): how many units are \n",
    "            used in each dense layer (Note: the length of this list \n",
    "            tells us how many dense layers we have before the final \n",
    "            classification layer.)\n",
    "    \n",
    "    # Returns\n",
    "        Keras Model which takes in two image tensors (low_res_input, \n",
    "        high_res_input) and returns a scalar between [0, 1] which \n",
    "        represents how realistic high_res_input appears.\n",
    "    \"\"\"\n",
    "    \n",
    "    # Validate inputs\n",
    "    if len(num_filters_in_layer) != len(num_cells_in_layer):\n",
    "        raise ValueError(\"len(num_filters_in_layer) should equal \"\n",
    "            \"len(num_cells_in_layer). Received lengths: \"\n",
    "            \"({}, {})\".format(len(num_filters_in_layer), len(num_cells_in_layer)))\n",
    "    \n",
    "    x = low_res_input\n",
    "    x = UpSampling2D()(x)\n",
    "    x = concatenate([x, high_res_input])\n",
    "    \n",
    "    filters_and_cells = zip(num_filters_in_layer, num_cells_in_layer)\n",
    "    \n",
    "    for i, (num_filters, num_cells) in enumerate(filters_and_cells):\n",
    "        for j in range(num_cells):\n",
    "            x = unet_cell(x, num_filters=num_filters) # TODO: Rename `unet_cell`\n",
    "        x = MaxPooling2D(pool_size=2)(x)\n",
    "    \n",
    "    x = GlobalAveragePooling2D()(x)\n",
    "    x = LeakyReLU(alpha=LEAKY_RELU_ALPHA)(x)\n",
    "    x = BatchNormalization(momentum=BATCH_NORM_MOMENTUM)(x)\n",
    "    \n",
    "    for num_units in num_units_in_dense_layer:\n",
    "        x = Dense(units=num_units)(x)\n",
    "        x = LeakyReLU(alpha=LEAKY_RELU_ALPHA)(x)\n",
    "        x = BatchNormalization(momentum=BATCH_NORM_MOMENTUM)(x)\n",
    "    \n",
    "    validity = Dense(units=1, activation='sigmoid')(x)\n",
    "\n",
    "    model = Model(inputs=[low_res_input, high_res_input], outputs=validity)\n",
    "    return model"
   ]
  },
  {
   "cell_type": "code",
   "execution_count": 5,
   "metadata": {},
   "outputs": [
    {
     "name": "stdout",
     "output_type": "stream",
     "text": [
      "__________________________________________________________________________________________________\n",
      "Layer (type)                    Output Shape         Param #     Connected to                     \n",
      "==================================================================================================\n",
      "input_1 (InputLayer)            (None, None, None, 1 0                                            \n",
      "__________________________________________________________________________________________________\n",
      "model_1 (Model)                 (None, None, None, 1 179969      input_1[0][0]                    \n",
      "__________________________________________________________________________________________________\n",
      "model_2 (Model)                 (None, 1)            122097      input_1[0][0]                    \n",
      "                                                                 model_1[1][0]                    \n",
      "==================================================================================================\n",
      "Total params: 302,066\n",
      "Trainable params: 179,009\n",
      "Non-trainable params: 123,057\n",
      "__________________________________________________________________________________________________\n"
     ]
    }
   ],
   "source": [
    "# Define inputs\n",
    "low_res_input = Input(shape=(None, None, 1))\n",
    "# TODO: dimensions of low_res_input should probably be divisible \n",
    "# by 2**{num_layers}\n",
    "high_res_input = Input(shape=(None, None, 1)) # This should really have dimensions twice that of low_res_input\n",
    "\n",
    "# Build upscaler / discriminator\n",
    "upscaler = build_upscaler(low_res_input) # Use default parameters\n",
    "discriminator = build_discriminator(low_res_input, high_res_input) # Use default parameters\n",
    "\n",
    "# Define optimizers and compile models\n",
    "upscaler_optimizer = Adam(0.001, 0.5)\n",
    "upscaler.compile(loss='binary_crossentropy', \n",
    "                 optimizer=upscaler_optimizer)\n",
    "\n",
    "discriminator_optimizer = Adam(0.0002, 0.5)\n",
    "discriminator.compile(loss='binary_crossentropy', \n",
    "                      optimizer=discriminator_optimizer, \n",
    "                      metrics=['accuracy'])\n",
    "\n",
    "discriminator.trainable = False\n",
    "\n",
    "upscaled_imgs = upscaler(low_res_input)\n",
    "valid = discriminator([low_res_input, upscaled_imgs])\n",
    "\n",
    "# The combined model  (stacked upscaler and discriminator) takes\n",
    "# low-res image as input and returns an upsampled image from the \n",
    "# upscaler and a validity score given by the discriminator\n",
    "combined = Model(low_res_input, [valid, upscaled_imgs])\n",
    "combined.compile(loss=['binary_crossentropy', 'mean_absolute_error'], \n",
    "                 optimizer=upscaler_optimizer, \n",
    "                 metrics = ['accuracy'])\n",
    "# Notice: the combined model was compiled *after* freezing the discriminator's weights\n",
    "\n",
    "combined.summary()"
   ]
  },
  {
   "cell_type": "code",
   "execution_count": 6,
   "metadata": {},
   "outputs": [],
   "source": [
    "def reduce_resolution(ims):\n",
    "    O, M, N, P = ims.shape\n",
    "    K = 2\n",
    "    L = 2\n",
    "\n",
    "    MK = M // K\n",
    "    NL = N // L\n",
    "    return ims.reshape(-1, MK, K, NL, L).mean(axis=(2, 4)).reshape(O, MK, NL, P)"
   ]
  },
  {
   "cell_type": "code",
   "execution_count": 7,
   "metadata": {},
   "outputs": [],
   "source": [
    "# Define training parameters\n",
    "train_steps = 1000\n",
    "print_every_n_steps = 1\n",
    "print_results = False\n",
    "plot_results = False\n",
    "batch_size = 200\n",
    "half_batch = batch_size // 2\n",
    "\n",
    "# Create a dictionary for storing training metrics over time\n",
    "training_metrics = {\n",
    "    'step': [],\n",
    "    'd_loss': [],\n",
    "    'd_acc': [],\n",
    "    'g_loss': []\n",
    "}"
   ]
  },
  {
   "cell_type": "code",
   "execution_count": 8,
   "metadata": {
    "scrolled": true
   },
   "outputs": [
    {
     "name": "stderr",
     "output_type": "stream",
     "text": [
      "/opt/modules/devel/python/3.5.2/lib/python3.5/site-packages/keras/engine/training.py:490: UserWarning: Discrepancy between trainable weights and collected trainable weights, did you set `model.trainable` without calling `model.compile` after ?\n",
      "  'Discrepancy between trainable weights and collected trainable'\n"
     ]
    }
   ],
   "source": [
    "for step in range(1, train_steps + 1):\n",
    "\n",
    "    # ---------------------\n",
    "    #  Train Discriminator\n",
    "    # ---------------------\n",
    "\n",
    "    # Select a random half batch of images\n",
    "    num_images = len(X_train)\n",
    "    random_idxs = np.random.randint(num_images, size=half_batch)\n",
    "    real_imgs = X_train[random_idxs]\n",
    "    low_res_real_imgs = reduce_resolution(real_imgs)\n",
    "\n",
    "    random_idxs = np.random.randint(num_images, size=half_batch)\n",
    "    imgs_for_upscaler = X_train[random_idxs]\n",
    "    low_res_imgs = reduce_resolution(imgs_for_upscaler)\n",
    "\n",
    "    # Generate a half batch of upsampled images\n",
    "    gen_imgs = upscaler.predict(low_res_imgs)\n",
    "    \n",
    "    # Train the discriminator\n",
    "    d_loss_real = discriminator.train_on_batch(\n",
    "        x=[low_res_real_imgs, real_imgs], # Training data\n",
    "        y=np.ones(shape=(half_batch, 1))) # Labels\n",
    "    \n",
    "    d_loss_fake = discriminator.train_on_batch(\n",
    "        x=[low_res_imgs, gen_imgs],        # Training data\n",
    "        y=np.zeros(shape=(half_batch, 1))) # Labels\n",
    "    \n",
    "    d_loss = 0.5 * np.add(d_loss_real, d_loss_fake)\n",
    "\n",
    "    # ---------------------\n",
    "    #  Train upscaler\n",
    "    # ---------------------\n",
    "\n",
    "    random_idxs = np.random.randint(num_images, size=batch_size)\n",
    "    original_imgs = X_train[random_idxs]\n",
    "    new_low_res_imgs = reduce_resolution(original_imgs)\n",
    "\n",
    "    # The upscaler wants the discriminator to label the generated \n",
    "    # samples as valid (ones)\n",
    "    valid_y = np.array([1] * batch_size)\n",
    "    \n",
    "    # Train the upscaler\n",
    "    g_loss = combined.train_on_batch(\n",
    "        x=new_low_res_imgs, \n",
    "        y=[valid_y, original_imgs])\n",
    "        \n",
    "    if step % print_every_n_steps == 0:\n",
    "        # Store metrics over time\n",
    "        training_metrics['step'].append(step)\n",
    "        training_metrics['d_loss'].append(d_loss[0])\n",
    "        training_metrics['d_acc'].append(d_loss[1])\n",
    "        training_metrics['g_loss'].append(g_loss[0])\n",
    "        \n",
    "        # Print current metrics\n",
    "        if print_results:\n",
    "            print(\"Step {}:\".format(step))\n",
    "            print(\"    [D loss: {:0.6f}, accuracy: {:0.4f}]\".format(\n",
    "                training_metrics['d_loss'][-1],\n",
    "                training_metrics['d_acc'][-1]))\n",
    "            print(\"    [G loss: {:0.6f}]\".format(\n",
    "                training_metrics['g_loss'][-1]))\n",
    "        \n",
    "        # Plot example low_res vs upsampling vs original\n",
    "        if plot_results:\n",
    "            fig, (ax1, ax2, ax3) = plt.subplots(1, 3)\n",
    "            ax1.imshow(low_res_imgs[0, :, :, 0])\n",
    "            ax2.imshow(gen_imgs[0, :, :, 0])\n",
    "            ax3.imshow(imgs_for_upscaler[0, :, :, 0])\n",
    "            plt.show()"
   ]
  },
  {
   "cell_type": "code",
   "execution_count": 9,
   "metadata": {
    "scrolled": true
   },
   "outputs": [
    {
     "data": {
      "image/png": "[encoded data removed]",
      "text/plain": [
       "<Figure size 432x288 with 1 Axes>"
      ]
     },
     "metadata": {},
     "output_type": "display_data"
    }
   ],
   "source": [
    "steps = training_metrics['step']\n",
    "for key, values in training_metrics.items():\n",
    "    if key == 'step': continue\n",
    "    plt.plot(steps, values, label=key)\n",
    "plt.title('Training Metrics')\n",
    "plt.legend();"
   ]
  },
  {
   "cell_type": "code",
   "execution_count": 18,
   "metadata": {
    "scrolled": false
   },
   "outputs": [],
   "source": [
    "def save_models():\n",
    "    upscaler.save('./models/upscaler_mnist.h5')\n",
    "    discriminator.save('./models/discriminator_mnist.h5')\n",
    "    combined.save('./models/combined_mnist.h5')"
   ]
  },
  {
   "cell_type": "code",
   "execution_count": 19,
   "metadata": {},
   "outputs": [],
   "source": [
    "def show_examples():\n",
    "    from keras.models import load_model\n",
    "\n",
    "    # Load the upscaler\n",
    "    upscaler = load_model('./models/upscaler_mnist.h5')\n",
    "\n",
    "    # Upsample five images\n",
    "    fi = 314 # First index\n",
    "    images = X_train[fi:fi + 5]\n",
    "    upsampled = upscaler.predict(images)\n",
    "    upupsampled = upscaler.predict(upsampled)\n",
    "\n",
    "    # Create a figure showing the results\n",
    "    for i, (original, up, upup) in enumerate(zip(images, upsampled, upupsampled)):\n",
    "        fig, (ax1, ax2, ax3) = plt.subplots(1, 3)\n",
    "        if i == 0:\n",
    "            fig.suptitle(\"Original vs Upsampled vs Twice Upsampled\")\n",
    "        ax1.imshow(original[:, :, 0])\n",
    "        ax2.imshow(up[:, :, 0])\n",
    "        ax3.imshow(upup[:, :, 0])\n",
    "        plt.show()"
   ]
  },
  {
   "cell_type": "code",
   "execution_count": 20,
   "metadata": {},
   "outputs": [
    {
     "data": {
      "image/png": "[encoded data removed]",
      "text/plain": [
       "<Figure size 432x288 with 3 Axes>"
      ]
     },
     "metadata": {},
     "output_type": "display_data"
    },
    {
     "data": {
      "image/png": "[encoded data removed]",
      "text/plain": [
       "<Figure size 432x288 with 3 Axes>"
      ]
     },
     "metadata": {},
     "output_type": "display_data"
    },
    {
     "data": {
      "image/png": "[encoded data removed]",
      "text/plain": [
       "<Figure size 432x288 with 3 Axes>"
      ]
     },
     "metadata": {},
     "output_type": "display_data"
    },
    {
     "data": {
      "image/png": "[encoded data removed]",
      "text/plain": [
       "<Figure size 432x288 with 3 Axes>"
      ]
     },
     "metadata": {},
     "output_type": "display_data"
    },
    {
     "data": {
      "image/png": "[encoded data removed]",
      "text/plain": [
       "<Figure size 432x288 with 3 Axes>"
      ]
     },
     "metadata": {},
     "output_type": "display_data"
    }
   ],
   "source": [
    "# save_models()\n",
    "# show_examples()"
   ]
  }
 ],
 "metadata": {
  "kernelspec": {
   "display_name": "Python 3",
   "language": "python",
   "name": "python3"
  },
  "language_info": {
   "codemirror_mode": {
    "name": "ipython",
    "version": 3
   },
   "file_extension": ".py",
   "mimetype": "text/x-python",
   "name": "python",
   "nbconvert_exporter": "python",
   "pygments_lexer": "ipython3",
   "version": "3.5.2"
  }
 },
 "nbformat": 4,
 "nbformat_minor": 2
}
