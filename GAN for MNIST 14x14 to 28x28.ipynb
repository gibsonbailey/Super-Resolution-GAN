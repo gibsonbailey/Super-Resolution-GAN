{
 "cells": [
  {
   "cell_type": "code",
   "execution_count": 1,
   "metadata": {},
   "outputs": [
    {
     "name": "stderr",
     "output_type": "stream",
     "text": [
      "Using TensorFlow backend.\n"
     ]
    }
   ],
   "source": [
    "import numpy as np\n",
    "  \n",
    "from keras.models import Model\n",
    "from keras.layers import Input, Conv2D, UpSampling2D, Conv2DTranspose, GlobalAveragePooling2D\n",
    "from keras.layers import concatenate, LeakyReLU, BatchNormalization, Dense, Activation, Reshape\n",
    "from keras.optimizers import *\n",
    "from keras.datasets import mnist\n",
    "\n",
    "import tensorflow as tf\n",
    "\n",
    "import matplotlib.pyplot as plt\n",
    "%matplotlib inline\n",
    "\n",
    "(X_train, _), (_, _) = mnist.load_data()\n",
    "X_train = np.reshape(X_train, (-1, 28, 28, 1))/255"
   ]
  },
  {
   "cell_type": "code",
   "execution_count": 2,
   "metadata": {},
   "outputs": [],
   "source": [
    "image_size = 28\n",
    "\n",
    "def build_generator(image_size):\n",
    "    input1 = Input(shape=(None, None, 1))\n",
    "    \n",
    "    input11 = UpSampling2D()(input1)\n",
    "    \n",
    "    # [C L B C L B]\n",
    "    model1 = Conv2D(16, (3, 3), strides=(1, 1), padding='same')(input11)\n",
    "    model1 = LeakyReLU(alpha=0.2)(model1)\n",
    "    model1 = BatchNormalization(momentum=0.8)(model1)\n",
    "    model1 = Conv2D(16, (3, 3), strides=(1, 1), padding='same')(model1)\n",
    "    model1 = LeakyReLU(alpha=0.2)(model1)\n",
    "    model1 = BatchNormalization(momentum=0.8)(model1)\n",
    "    \n",
    "    # [C L B C L B C L B]\n",
    "    model2 = Conv2D(32, (3, 3), strides=(2, 2), padding='same')(model1)\n",
    "    model2 = LeakyReLU(alpha=0.2)(model2)\n",
    "    model2 = BatchNormalization(momentum=0.8)(model2)\n",
    "    model2 = Conv2D(32, (3, 3), strides=(1, 1), padding='same')(model2)\n",
    "    model2 = LeakyReLU(alpha=0.2)(model2)\n",
    "    model2 = BatchNormalization(momentum=0.8)(model2)\n",
    "    model2 = Conv2D(32, (3, 3), strides=(1, 1), padding='same')(model2)\n",
    "    model2 = LeakyReLU(alpha=0.2)(model2)\n",
    "    model2 = BatchNormalization(momentum=0.8)(model2)\n",
    "\n",
    "    # [C L B C L B C L B]\n",
    "    model3 = Conv2D(64, (3, 3), strides=(2, 2), padding='same')(model2)\n",
    "    model3 = LeakyReLU(alpha=0.2)(model3)\n",
    "    model3 = BatchNormalization(momentum=0.8)(model3)\n",
    "    model3 = Conv2D(64, (3, 3), strides=(1, 1), padding='same')(model3)\n",
    "    model3 = LeakyReLU(alpha=0.2)(model3)\n",
    "    model3 = BatchNormalization(momentum=0.8)(model3)\n",
    "    model3 = Conv2D(64, (3, 3), strides=(1, 1), padding='same')(model3)\n",
    "    model3 = LeakyReLU(alpha=0.2)(model3)\n",
    "    model3 = BatchNormalization(momentum=0.8)(model3)\n",
    "\n",
    "    # [Conc L B C L B C L B]\n",
    "    model4 = concatenate([Conv2DTranspose(32, (2, 2), strides=(2, 2), padding='same')(model3), model2], axis=3)\n",
    "    model4 = LeakyReLU(alpha=0.2)(model4)\n",
    "    model4 = BatchNormalization(momentum=0.8)(model4)\n",
    "    model4 = Conv2D(32, (3, 3), strides=(1, 1), padding='same')(model4)\n",
    "    model4 = LeakyReLU(alpha=0.2)(model4)\n",
    "    model4 = BatchNormalization(momentum=0.8)(model4)\n",
    "    model4 = Conv2D(32, (3, 3), strides=(1, 1), padding='same')(model4)\n",
    "    model4 = LeakyReLU(alpha=0.2)(model4)\n",
    "    model4 = BatchNormalization(momentum=0.8)(model4)\n",
    "    \n",
    "    # [Conc L B C L B C L B]\n",
    "    model5 = concatenate([Conv2DTranspose(16, (2, 2), strides=(2, 2), padding='same')(model4), model1], axis=3)\n",
    "    model5 = LeakyReLU(alpha=0.2)(model5)\n",
    "    model5 = BatchNormalization(momentum=0.8)(model5)\n",
    "    model5 = Conv2D(16, (3, 3), strides=(1, 1), padding='same')(model5)\n",
    "    model5 = LeakyReLU(alpha=0.2)(model5)\n",
    "    model5 = BatchNormalization(momentum=0.8)(model5)\n",
    "    model5 = Conv2D(16, (3, 3), strides=(1, 1), padding='same')(model5)\n",
    "    model5 = LeakyReLU(alpha=0.2)(model5)\n",
    "    model5 = BatchNormalization(momentum=0.8)(model5)\n",
    "    \n",
    "    # [Conc L B C_sigmoid]\n",
    "    model6 = concatenate([Conv2D(16, (1, 1), padding='same')(model5), input11], axis=3)\n",
    "    model6 = LeakyReLU(alpha=0.2)(model6)\n",
    "    model6 = BatchNormalization(momentum=0.8)(model6)\n",
    "    model6 = Conv2D(1, (1, 1), activation='sigmoid', padding='same')(model6)\n",
    "    \n",
    "    return Model(inputs=input1, outputs=model6)"
   ]
  },
  {
   "cell_type": "code",
   "execution_count": 3,
   "metadata": {},
   "outputs": [],
   "source": [
    "def build_discriminator(image_size):\n",
    "    # \n",
    "    input1 = Input(shape=(None, None, 1))\n",
    "    input2 = Input(shape=(None, None, 1))\n",
    "    \n",
    "    model1 = UpSampling2D()(input1)\n",
    "    model1 = Conv2D(16, (3, 3), strides=(1,1), padding='same')(model1)\n",
    "    model1 = LeakyReLU(alpha=0.2)(model1)\n",
    "    model1 = BatchNormalization(momentum=0.8)(model1)\n",
    "    model1 = Conv2D(16, (3, 3), strides=(1,1), padding='same')(model1)\n",
    "    model1 = LeakyReLU(alpha=0.2)(model1)\n",
    "    model1 = BatchNormalization(momentum=0.8)(model1)\n",
    "    \n",
    "    model = Conv2D(16, (3, 3), strides=(1,1), padding='same')(input2)\n",
    "    model = LeakyReLU(alpha=0.2)(model)\n",
    "    model = BatchNormalization(momentum=0.8)(model)\n",
    "    model = Conv2D(16, (3, 3), strides=(1,1), padding='same')(model)\n",
    "    model = LeakyReLU(alpha=0.2)(model)\n",
    "    model = BatchNormalization(momentum=0.8)(model)\n",
    "    model = concatenate([model, model1], axis=3)\n",
    "    \n",
    "    model = Conv2D(32, (3, 3), strides=(2,2), padding='same')(model)\n",
    "    model = LeakyReLU(alpha=0.2)(model)\n",
    "    model = BatchNormalization(momentum=0.8)(model)\n",
    "    model = Conv2D(64, (3, 3), strides=(1,1), padding='same')(model)\n",
    "    model = LeakyReLU(alpha=0.2)(model)\n",
    "    model = BatchNormalization(momentum=0.8)(model)\n",
    "    model = Conv2D(64, (3, 3), strides=(1,1), padding='same')(model)\n",
    "    model = LeakyReLU(alpha=0.2)(model)\n",
    "    model = BatchNormalization(momentum=0.8)(model)\n",
    "    \n",
    "    model = Conv2D(128, (3, 3), strides=(2,2), padding='same')(model)\n",
    "    model = LeakyReLU(alpha=0.2)(model)\n",
    "    model = BatchNormalization(momentum=0.8)(model)\n",
    "    model = Conv2D(256, (3, 3), strides=(1,1), padding='same')(model)\n",
    "    model = LeakyReLU(alpha=0.2)(model)\n",
    "    model = BatchNormalization(momentum=0.8)(model)\n",
    "    model = Conv2D(256, (3, 3), strides=(1,1), padding='same')(model)\n",
    "    model = GlobalAveragePooling2D()(model)\n",
    "    model = LeakyReLU(alpha=0.2)(model)\n",
    "    model = BatchNormalization(momentum=0.8)(model)\n",
    "    model = Dense(1024)(model)\n",
    "    model = LeakyReLU(alpha=0.2)(model)\n",
    "    model = BatchNormalization(momentum=0.8)(model)\n",
    "    model = Dense(512)(model)\n",
    "    model = LeakyReLU(alpha=0.2)(model)\n",
    "    model = Dense(1)(model)\n",
    "    model = Activation('sigmoid')(model)\n",
    "\n",
    "    return Model(inputs=[input1, input2], outputs=model)"
   ]
  },
  {
   "cell_type": "code",
   "execution_count": 4,
   "metadata": {},
   "outputs": [
    {
     "name": "stdout",
     "output_type": "stream",
     "text": [
      "__________________________________________________________________________________________________\n",
      "Layer (type)                    Output Shape         Param #     Connected to                     \n",
      "==================================================================================================\n",
      "input_4 (InputLayer)            (None, None, None, 1 0                                            \n",
      "__________________________________________________________________________________________________\n",
      "model_1 (Model)                 (None, None, None, 1 165318      input_4[0][0]                    \n",
      "__________________________________________________________________________________________________\n",
      "model_2 (Model)                 (None, 1)            1824769     input_4[0][0]                    \n",
      "                                                                 model_1[1][0]                    \n",
      "==================================================================================================\n",
      "Total params: 1,990,087\n",
      "Trainable params: 164,260\n",
      "Non-trainable params: 1,825,827\n",
      "__________________________________________________________________________________________________\n"
     ]
    }
   ],
   "source": [
    "optimizer = Adam(0.001, 0.5)\n",
    "generator = build_generator(image_size)\n",
    "generator.compile(loss='binary_crossentropy', optimizer=optimizer)\n",
    "\n",
    "optimizer1 = Adam(0.0002, 0.5)\n",
    "discriminator = build_discriminator(image_size)\n",
    "discriminator.compile(loss='binary_crossentropy', optimizer=optimizer1, metrics=['accuracy'])\n",
    "\n",
    "discriminator.trainable = False\n",
    "\n",
    "# The generator takes noise as input and generated imgs\n",
    "z = Input(shape=(None, None, 1))\n",
    "img = generator(z)\n",
    "# The discriminator takes generated images as input and determines validity\n",
    "valid = discriminator([z, img])\n",
    "\n",
    "# The combined model  (stacked generator and discriminator) takes\n",
    "# noise as input => generates images => determines validity \n",
    "combined = Model(z, [valid, img])\n",
    "combined.compile(loss=['binary_crossentropy', 'mean_absolute_error'], optimizer=optimizer, metrics = ['accuracy'])\n",
    "\n",
    "combined.summary()"
   ]
  },
  {
   "cell_type": "code",
   "execution_count": 5,
   "metadata": {
    "scrolled": false
   },
   "outputs": [
    {
     "name": "stderr",
     "output_type": "stream",
     "text": [
      "/home/ben/miniconda3/envs/tf-1.12/lib/python3.6/site-packages/keras/engine/training.py:490: UserWarning: Discrepancy between trainable weights and collected trainable weights, did you set `model.trainable` without calling `model.compile` after ?\n",
      "  'Discrepancy between trainable weights and collected trainable'\n"
     ]
    },
    {
     "name": "stdout",
     "output_type": "stream",
     "text": [
      "0 [D loss: 0.695150, acc.: 0.00%] [G loss: 1.340537]\n"
     ]
    },
    {
     "data": {
      "image/png": "[encoded data removed]",
      "text/plain": [
       "<Figure size 432x288 with 3 Axes>"
      ]
     },
     "metadata": {
      "needs_background": "light"
     },
     "output_type": "display_data"
    }
   ],
   "source": [
    "epochs = 2\n",
    "batch_size = 2\n",
    "half_batch = int(batch_size/2)\n",
    "def reduce_resolution(ims):\n",
    "    O, M, N, P = ims.shape\n",
    "    K = 2\n",
    "    L = 2\n",
    "\n",
    "    MK = M // K\n",
    "    NL = N // L\n",
    "    return ims.reshape(-1, MK, K, NL, L).mean(axis=(2, 4)).reshape(O, MK, NL, P)\n",
    "\n",
    "def upsize(ims):\n",
    "    return ims.repeat(2, axis = 1).repeat(2, axis = 2)\n",
    "\n",
    "for epoch in range(epochs):\n",
    "\n",
    "    # ---------------------\n",
    "    #  Train Discriminator\n",
    "    # ---------------------\n",
    "\n",
    "    # Select a random half batch of images\n",
    "    idx = np.random.randint(0, X_train.shape[0], half_batch)\n",
    "    imgs = X_train[idx]\n",
    "    noise = reduce_resolution(imgs)\n",
    "\n",
    "    idx1 = np.random.randint(0, X_train.shape[0], half_batch)\n",
    "    imgs1 = X_train[idx1]\n",
    "    noise1 = reduce_resolution(imgs1)\n",
    "\n",
    "    # Generate a half batch of new images\n",
    "    gen_imgs = generator.predict(noise1)\n",
    "    # Train the discriminator\n",
    "    \n",
    "    d_loss_real = discriminator.train_on_batch([noise, imgs], np.ones((half_batch, 1)))\n",
    "    d_loss_fake = discriminator.train_on_batch([noise1, gen_imgs], np.zeros((half_batch, 1)))\n",
    "    d_loss = 0.5 * np.add(d_loss_real, d_loss_fake)\n",
    "\n",
    "    # ---------------------\n",
    "    #  Train Generator\n",
    "    # ---------------------\n",
    "\n",
    "    idx2 = np.random.randint(0, X_train.shape[0], batch_size)\n",
    "    noise2 = reduce_resolution(X_train[idx2])\n",
    "\n",
    "    # The generator wants the discriminator to label the generated samples\n",
    "    # as valid (ones)\n",
    "    valid_y = np.array([1] * batch_size)\n",
    "    \n",
    "    # Train the generator\n",
    "    g_loss = combined.train_on_batch(noise2, [valid_y, X_train[idx2]])\n",
    "        \n",
    "    if epoch % 10 == 0:\n",
    "        # Plot the progress\n",
    "        print (\"%d [D loss: %f, acc.: %.2f%%] [G loss: %f]\" % (epoch, d_loss[0], 100*d_loss[1], g_loss[0]))\n",
    "        fig, ax = plt.subplots(1, 3)\n",
    "        ax[0].imshow(np.reshape(noise1[0], (14, 14)))\n",
    "        ax[1].imshow(np.reshape(gen_imgs[0], (28, 28)))\n",
    "        ax[2].imshow(np.reshape(imgs1[0], (28, 28)))\n",
    "        plt.show()\n"
   ]
  },
  {
   "cell_type": "code",
   "execution_count": 6,
   "metadata": {
    "scrolled": false
   },
   "outputs": [],
   "source": [
    "generator.save('./models/generator_mnist.h5')\n",
    "discriminator.save('./models/discriminator_mnist.h5')\n",
    "combined.save('./models/combined_mnist.h5')"
   ]
  }
 ],
 "metadata": {
  "kernelspec": {
   "display_name": "Python 3",
   "language": "python",
   "name": "python3"
  },
  "language_info": {
   "codemirror_mode": {
    "name": "ipython",
    "version": 3
   },
   "file_extension": ".py",
   "mimetype": "text/x-python",
   "name": "python",
   "nbconvert_exporter": "python",
   "pygments_lexer": "ipython3",
   "version": "3.6.7"
  }
 },
 "nbformat": 4,
 "nbformat_minor": 2
}
